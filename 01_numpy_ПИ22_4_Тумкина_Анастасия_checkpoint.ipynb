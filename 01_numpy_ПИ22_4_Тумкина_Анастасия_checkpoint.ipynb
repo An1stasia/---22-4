{
  "cells": [
    {
      "cell_type": "markdown",
      "metadata": {
        "id": "S0Wz5LVWs8-B"
      },
      "source": [
        "# Numpy"
      ]
    },
    {
      "cell_type": "markdown",
      "metadata": {
        "id": "tECxxUIos8-E"
      },
      "source": [
        "Материалы:\n",
        "* Макрушин С.В. \"Лекция 1: Библиотека Numpy\"\n",
        "* https://numpy.org/doc/stable/user/index.html\n",
        "* https://numpy.org/doc/stable/reference/index.html"
      ]
    },
    {
      "cell_type": "markdown",
      "metadata": {
        "id": "1pxN1yT0s8-E"
      },
      "source": [
        "## Задачи для совместного разбора"
      ]
    },
    {
      "cell_type": "markdown",
      "metadata": {
        "id": "mg7urixLs8-E"
      },
      "source": [
        "1. Сгенерировать двухмерный массив `arr` размерности (4, 7), состоящий из случайных действительных чисел, равномерно распределенных в диапазоне от 0 до 20. Нормализовать значения массива с помощью преобразования вида  $𝑎𝑥+𝑏$  так, что после нормализации максимальный элемент масcива будет равен 1.0, минимальный 0.0"
      ]
    },
    {
      "cell_type": "code",
      "execution_count": 5,
      "metadata": {
        "colab": {
          "base_uri": "https://localhost:8080/"
        },
        "id": "X1aF7wyts8-F",
        "outputId": "52653ec8-a1ab-4e82-d042-5e500568a130"
      },
      "outputs": [
        {
          "output_type": "stream",
          "name": "stdout",
          "text": [
            "[[2.41849307e-01 4.94608504e-01 8.30612666e-01 8.13869164e-01\n",
            "  0.00000000e+00 8.69222594e-01 4.18647412e-01]\n",
            " [1.00000000e+00 2.29348605e-01 1.26405790e-01 3.78623556e-03\n",
            "  2.42285451e-01 1.03972843e-01 3.47263414e-01]\n",
            " [8.23256899e-01 1.52202422e-02 6.81323891e-04 1.76476246e-02\n",
            "  2.63494598e-01 7.89653684e-01 2.01597099e-01]\n",
            " [6.15182385e-01 6.06380519e-01 6.00761064e-01 7.19814898e-01\n",
            "  3.49293387e-01 1.57481741e-01 7.09833846e-02]]\n"
          ]
        }
      ],
      "source": [
        "import numpy as np\n",
        "arr = np.random.uniform(0, 20, 28).reshape(4,7)\n",
        "arr1 = (arr - np.min(arr))/(np.max(arr)-np.min(arr))\n",
        "print(arr1)"
      ]
    },
    {
      "cell_type": "markdown",
      "metadata": {
        "id": "bNDQO3hUs8-F"
      },
      "source": [
        "2. Создать матрицу 8 на 10 из случайных целых (используя модуль `numpy.random`) чисел из диапозона от 0 до 10 и найти в ней строку (ее индекс и вывести саму строку), в которой сумма значений минимальна."
      ]
    },
    {
      "cell_type": "code",
      "source": [
        "a = np.random.randint(0,10,80).reshape(8,10)\n",
        "a.sum(axis=1)\n",
        "print(a.sum(axis=1))"
      ],
      "metadata": {
        "colab": {
          "base_uri": "https://localhost:8080/"
        },
        "id": "Ma3-MYl2nMmC",
        "outputId": "86463add-6d82-4418-d9ba-c2d2006205e3"
      },
      "execution_count": 29,
      "outputs": [
        {
          "output_type": "stream",
          "name": "stdout",
          "text": [
            "[58 49 41 41 46 56 55 39]\n"
          ]
        }
      ]
    },
    {
      "cell_type": "markdown",
      "metadata": {
        "id": "_RE3qW6ks8-F"
      },
      "source": [
        "3. Найти евклидово расстояние между двумя одномерными векторами одинаковой размерности."
      ]
    },
    {
      "cell_type": "code",
      "source": [
        "p1 = np.array((0, 0, 0))\n",
        "p2 = np.array((3, 3, 3))\n",
        "evk = np.sqrt(np.sum(np.square(p2-p1)))\n",
        "print(evk)"
      ],
      "metadata": {
        "id": "pzRDHfKlnOt6",
        "colab": {
          "base_uri": "https://localhost:8080/"
        },
        "outputId": "508b9422-5f7d-4029-89a4-d2b1978c04d4"
      },
      "execution_count": 30,
      "outputs": [
        {
          "output_type": "stream",
          "name": "stdout",
          "text": [
            "5.196152422706632\n"
          ]
        }
      ]
    },
    {
      "cell_type": "markdown",
      "metadata": {
        "id": "QohKAKdls8-G"
      },
      "source": [
        "4. Решить матричное уравнение `A*X*B=-C` - найти матрицу `X`. Где `A = [[-1, 2, 4], [-3, 1, 2], [-3, 0, 1]]`, `B=[[3, -1], [2, 1]]`, `C=[[7, 21], [11, 8], [8, 4]]`."
      ]
    },
    {
      "cell_type": "code",
      "source": [
        "A = np.array([[-1, 2, 4], [-3, 1, 2], [-3, 0, 1]])\n",
        "B = np.array([[3, -1], [2, 1]])\n",
        "C = np.array([[7, 21], [11, 8], [8, 4]])\n",
        "X = np.linalg.inv(A) @ (C*-1) @ np.linalg.inv(B)\n",
        "print(X)"
      ],
      "metadata": {
        "colab": {
          "base_uri": "https://localhost:8080/"
        },
        "id": "QDuHUCaNnPOp",
        "outputId": "90e1e9f8-7cad-4648-ab9b-9915fd0e1da4"
      },
      "execution_count": 31,
      "outputs": [
        {
          "output_type": "stream",
          "name": "stdout",
          "text": [
            "[[ 1.00000000e+00  5.32907052e-16]\n",
            " [-2.00000000e+00  1.00000000e+00]\n",
            " [ 3.00000000e+00 -4.00000000e+00]]\n"
          ]
        }
      ]
    },
    {
      "cell_type": "markdown",
      "metadata": {
        "id": "nOPBujdYs8-G"
      },
      "source": [
        "## Лабораторная работа №1"
      ]
    },
    {
      "cell_type": "markdown",
      "metadata": {
        "id": "8c9dXewZs8-G"
      },
      "source": [
        "Замечание: при решении данных задач не подразумевается использования циклов или генераторов Python, если в задании не сказано обратного. Решение должно опираться на использования функционала библиотеки `numpy`."
      ]
    },
    {
      "cell_type": "markdown",
      "metadata": {
        "id": "L3K1kRD4s8-G"
      },
      "source": [
        "1. Файл `minutes_n_ingredients.csv` содержит информацию об идентификаторе рецепта, времени его выполнения в минутах и количестве необходимых ингредиентов. Считайте данные из этого файла в виде массива `numpy` типа `int32`, используя `np.loadtxt`. Выведите на экран первые 5 строк массива."
      ]
    },
    {
      "cell_type": "code",
      "source": [
        "zagolovok = np.loadtxt('/content/minutes_n_ingredients.csv', delimiter=',', dtype=str)[0]\n",
        "a = np.loadtxt('/content/minutes_n_ingredients.csv', delimiter=',', dtype='int32', skiprows=1)\n",
        "print(a[:5])"
      ],
      "metadata": {
        "colab": {
          "base_uri": "https://localhost:8080/"
        },
        "id": "RsNyJK06Wxec",
        "outputId": "fcd00035-8b24-43cd-9f5d-7ecb0a9ff40d"
      },
      "execution_count": 6,
      "outputs": [
        {
          "output_type": "stream",
          "name": "stdout",
          "text": [
            "[[127244     60     16]\n",
            " [ 23891     25      7]\n",
            " [ 94746     10      6]\n",
            " [ 67660      5      6]\n",
            " [157911     60     14]]\n"
          ]
        }
      ]
    },
    {
      "cell_type": "markdown",
      "metadata": {
        "id": "NLU9CL4bs8-H"
      },
      "source": [
        "2. Вычислите среднее значение, минимум, максимум и медиану по каждому из столбцов, кроме первого."
      ]
    },
    {
      "cell_type": "code",
      "source": [
        "print('среднее значение:\\n', zagolovok[1], np.mean(a[:,1]),'\\n',zagolovok[2], np.mean(a[:,2]))\n",
        "print('минимум:\\n', zagolovok[1], a.min(axis=0)[1], '\\n', zagolovok[2], a.min(axis=0)[2])\n",
        "print('максимум:\\n', zagolovok[1], a.max(axis=0)[1], '\\n', zagolovok[2], a.max(axis=0)[2])\n",
        "print(len(a))\n",
        "print('медиана:\\n', zagolovok[1], np.median(a[:,1]),'\\n', zagolovok[2], np.median(a[:,2]))"
      ],
      "metadata": {
        "colab": {
          "base_uri": "https://localhost:8080/"
        },
        "id": "Kh1E8H7vZm92",
        "outputId": "36f36b9f-b6b3-424d-af97-bae2909de70e"
      },
      "execution_count": 32,
      "outputs": [
        {
          "output_type": "stream",
          "name": "stdout",
          "text": [
            "среднее значение:\n",
            " minutes 5.0 \n",
            " n_ingredients 5.375\n",
            "минимум:\n",
            " minutes 0 \n",
            " n_ingredients 2\n",
            "максимум:\n",
            " minutes 9 \n",
            " n_ingredients 9\n",
            "8\n",
            "медиана:\n",
            " minutes 6.0 \n",
            " n_ingredients 5.0\n"
          ]
        }
      ]
    },
    {
      "cell_type": "markdown",
      "metadata": {
        "id": "C7ZdS3tMs8-H"
      },
      "source": [
        "3. Ограничьте сверху значения продолжительности выполнения рецепта значением квантиля $q_{0.75}$. "
      ]
    },
    {
      "cell_type": "code",
      "source": [
        "q = np.quantile(a,0.75, axis=0)[1]\n",
        "a[:,1] = np.where(a[:,1]<=q, a[:,1], q)\n",
        "print(a)"
      ],
      "metadata": {
        "colab": {
          "base_uri": "https://localhost:8080/"
        },
        "id": "9kWRDb6efhew",
        "outputId": "5533731a-3af1-497c-abb0-6741e939a36e"
      },
      "execution_count": null,
      "outputs": [
        {
          "output_type": "stream",
          "name": "stdout",
          "text": [
            "[[127244     60     16]\n",
            " [ 23891     25      7]\n",
            " [ 94746     10      6]\n",
            " ...\n",
            " [498432     65     15]\n",
            " [370915      5      4]\n",
            " [ 81993     65     14]]\n"
          ]
        }
      ]
    },
    {
      "cell_type": "markdown",
      "metadata": {
        "id": "meHe7VaEs8-H"
      },
      "source": [
        "4. Посчитайте, для скольких рецептов указана продолжительность, равная нулю. Замените для таких строк значение в данном столбце на 1."
      ]
    },
    {
      "cell_type": "code",
      "source": [
        "print(np.count_nonzero(a[:,1] == 0))\n",
        "a[:, 1] = np.where(a[:, 1] != 0, a[:, 1], 1)\n",
        "print(a)"
      ],
      "metadata": {
        "colab": {
          "base_uri": "https://localhost:8080/"
        },
        "id": "6HMLJJvYHJmz",
        "outputId": "2e7ec5f9-5513-470f-f836-6cbb914e6295"
      },
      "execution_count": null,
      "outputs": [
        {
          "output_type": "stream",
          "name": "stdout",
          "text": [
            "479\n",
            "[[127244     60     16]\n",
            " [ 23891     25      7]\n",
            " [ 94746     10      6]\n",
            " ...\n",
            " [498432     65     15]\n",
            " [370915      5      4]\n",
            " [ 81993    140     14]]\n"
          ]
        }
      ]
    },
    {
      "cell_type": "markdown",
      "metadata": {
        "id": "4O8FAnqGs8-H"
      },
      "source": [
        "5. Посчитайте, сколько уникальных рецептов находится в датасете."
      ]
    },
    {
      "cell_type": "code",
      "source": [
        "print(len(np.unique(a[:,0])))"
      ],
      "metadata": {
        "colab": {
          "base_uri": "https://localhost:8080/"
        },
        "id": "VkWq6AnkZlwA",
        "outputId": "5704158d-bfb2-4a6d-a94d-c9ebf5441370"
      },
      "execution_count": null,
      "outputs": [
        {
          "output_type": "stream",
          "name": "stdout",
          "text": [
            "100000\n"
          ]
        }
      ]
    },
    {
      "cell_type": "markdown",
      "metadata": {
        "id": "1IIxilrVs8-I"
      },
      "source": [
        "6. Сколько и каких различных значений кол-ва ингредиентов присутвует в рецептах из датасета?"
      ]
    },
    {
      "cell_type": "code",
      "source": [
        "print(len(np.unique(a[:,2])), '\\n', np.unique(a[:,2]),)"
      ],
      "metadata": {
        "colab": {
          "base_uri": "https://localhost:8080/"
        },
        "id": "QeCr_5MnZzIT",
        "outputId": "669e9676-a9a8-4f26-bdba-6978eee87928"
      },
      "execution_count": null,
      "outputs": [
        {
          "output_type": "stream",
          "name": "stdout",
          "text": [
            "37 \n",
            " [ 1  2  3  4  5  6  7  8  9 10 11 12 13 14 15 16 17 18 19 20 21 22 23 24\n",
            " 25 26 27 28 29 30 31 32 33 34 35 37 39]\n"
          ]
        }
      ]
    },
    {
      "cell_type": "markdown",
      "metadata": {
        "id": "nvgHq50Cs8-I"
      },
      "source": [
        "7. Создайте версию массива, содержащую информацию только о рецептах, состоящих не более чем из 5 ингредиентов."
      ]
    },
    {
      "cell_type": "code",
      "source": [
        "b = a[np.where(a[:, 2]<=5)]\n",
        "print(b)"
      ],
      "metadata": {
        "colab": {
          "base_uri": "https://localhost:8080/"
        },
        "id": "H0UzcUDxaboO",
        "outputId": "5c93ae1b-3ad4-4cd2-ec7e-326f9687bb70"
      },
      "execution_count": null,
      "outputs": [
        {
          "output_type": "stream",
          "name": "stdout",
          "text": [
            "[[446597     15      5]\n",
            " [204134      5      3]\n",
            " [ 25623      6      4]\n",
            " ...\n",
            " [ 52088     60      5]\n",
            " [128811     15      4]\n",
            " [370915      5      4]]\n"
          ]
        }
      ]
    },
    {
      "cell_type": "markdown",
      "metadata": {
        "id": "IOMmPYhls8-I"
      },
      "source": [
        "8. Для каждого рецепта посчитайте, сколько в среднем ингредиентов приходится на одну минуту рецепта. Найдите максимальное значение этой величины для всего датасета"
      ]
    },
    {
      "cell_type": "code",
      "source": [
        "print(a[:,2]/a[:,1])\n",
        "print(max(a[:,2]/a[:,1]))"
      ],
      "metadata": {
        "colab": {
          "base_uri": "https://localhost:8080/"
        },
        "id": "8zQEmbd0b4QL",
        "outputId": "dd7dbea5-be06-468d-f474-3ec16111a68c"
      },
      "execution_count": null,
      "outputs": [
        {
          "output_type": "stream",
          "name": "stdout",
          "text": [
            "[0.26666667 0.28       0.6        ... 0.23076923 0.8        0.21538462]\n",
            "24.0\n"
          ]
        }
      ]
    },
    {
      "cell_type": "markdown",
      "metadata": {
        "id": "aihdcu2Fs8-I"
      },
      "source": [
        "9. Вычислите среднее количество ингредиентов для топ-100 рецептов с наибольшей продолжительностью"
      ]
    },
    {
      "cell_type": "code",
      "source": [
        "sorted(a[:,1], reverse=True)\n",
        "print(np.mean(a[:100,2]))"
      ],
      "metadata": {
        "colab": {
          "base_uri": "https://localhost:8080/"
        },
        "id": "FCiRlw40cev0",
        "outputId": "84a0961b-f556-4956-be86-247cebcde98b"
      },
      "execution_count": null,
      "outputs": [
        {
          "output_type": "stream",
          "name": "stdout",
          "text": [
            "8.43\n"
          ]
        }
      ]
    },
    {
      "cell_type": "markdown",
      "metadata": {
        "id": "yhxGllAFs8-I"
      },
      "source": [
        "10. Выберите случайным образом и выведите информацию о 10 различных рецептах"
      ]
    },
    {
      "cell_type": "code",
      "source": [
        "spisok = np.random.choice(len(a), size=10)\n",
        "print(a[spisok, :])"
      ],
      "metadata": {
        "colab": {
          "base_uri": "https://localhost:8080/"
        },
        "id": "NTYX_fBzcm8W",
        "outputId": "29ac65c0-dd00-46d6-c33d-9d8bd2741d3f"
      },
      "execution_count": null,
      "outputs": [
        {
          "output_type": "stream",
          "name": "stdout",
          "text": [
            "[[ 58959     40      5]\n",
            " [384378      5      8]\n",
            " [312000     45     12]\n",
            " [210242     60      9]\n",
            " [138244     35      6]\n",
            " [ 31632     30     11]\n",
            " [472285     22     14]\n",
            " [ 69236     65      5]\n",
            " [ 94987     50      7]\n",
            " [   492     15      6]]\n"
          ]
        }
      ]
    },
    {
      "cell_type": "markdown",
      "metadata": {
        "id": "kFsHWVans8-I"
      },
      "source": [
        "11. Выведите процент рецептов, кол-во ингредиентов в которых меньше среднего."
      ]
    },
    {
      "cell_type": "code",
      "source": [
        "ing_sr = np.mean(a[:,2])\n",
        "print(len(a[np.where(a[:,2]<ing_sr)])/len(a)*100)"
      ],
      "metadata": {
        "colab": {
          "base_uri": "https://localhost:8080/"
        },
        "id": "9uzMwEijewYG",
        "outputId": "10a4b262-9cf4-490e-d214-9ef65d080b9a"
      },
      "execution_count": null,
      "outputs": [
        {
          "output_type": "stream",
          "name": "stdout",
          "text": [
            "58.802\n"
          ]
        }
      ]
    },
    {
      "cell_type": "markdown",
      "metadata": {
        "id": "y3J6Fwuks8-I"
      },
      "source": [
        "12. Назовем \"простым\" такой рецепт, длительность выполнения которого не больше 20 минут и кол-во ингредиентов в котором не больше 5. Создайте версию датасета с дополнительным столбцом, значениями которого являются 1, если рецепт простой, и 0 в противном случае."
      ]
    },
    {
      "cell_type": "code",
      "source": [
        "a1 = np.hstack((a,np.zeros((100000,1), dtype='int')))\n",
        "a1[:,3] = np.where((a1[:,1]<=20) & (a1[:,2]<=5), 1, 0)\n",
        "print(a1)"
      ],
      "metadata": {
        "id": "o2HKFPfAizgS",
        "colab": {
          "base_uri": "https://localhost:8080/"
        },
        "outputId": "26901a11-9022-4c6b-f775-6c3bbc1a4a5e"
      },
      "execution_count": null,
      "outputs": [
        {
          "output_type": "stream",
          "name": "stdout",
          "text": [
            "[[127244     60     16      0]\n",
            " [ 23891     25      7      0]\n",
            " [ 94746     10      6      0]\n",
            " ...\n",
            " [498432     65     15      0]\n",
            " [370915      5      4      1]\n",
            " [ 81993    140     14      0]]\n"
          ]
        }
      ]
    },
    {
      "cell_type": "markdown",
      "metadata": {
        "id": "opyYPbW4s8-J"
      },
      "source": [
        "13. Выведите процент \"простых\" рецептов в датасете"
      ]
    },
    {
      "cell_type": "code",
      "source": [
        "print(len(a1[np.where(a1[:,3]==1)])/len(a1)*100)"
      ],
      "metadata": {
        "colab": {
          "base_uri": "https://localhost:8080/"
        },
        "id": "rDtymjsuRGBx",
        "outputId": "68a7576f-a308-4a5e-fabd-fd430f6ac7c6"
      },
      "execution_count": null,
      "outputs": [
        {
          "output_type": "stream",
          "name": "stdout",
          "text": [
            "9.552\n"
          ]
        }
      ]
    },
    {
      "cell_type": "markdown",
      "metadata": {
        "id": "OBUB8zGls8-J"
      },
      "source": [
        "14. Разделим рецепты на группы по следующему правилу. Назовем рецепты короткими, если их продолжительность составляет менее 10 минут; стандартными, если их продолжительность составляет более 10, но менее 20 минут; и длинными, если их продолжительность составляет не менее 20 минут. Создайте трехмерный массив, где нулевая ось отвечает за номер группы (короткий, стандартный или длинный рецепт), первая ось - за сам рецепт и вторая ось - за характеристики рецепта. Выберите максимальное количество рецептов из каждой группы таким образом, чтобы было возможно сформировать трехмерный массив. Выведите форму полученного массива."
      ]
    },
    {
      "cell_type": "code",
      "source": [
        "maxx = min(len(a[np.where((a[:,1]<=10))]), len(a[np.where((a[:,1]>10) & (a[:,1]<20))]), len(a[np.where((a[:,1]>=20))]))\n",
        "a2 = np.arange(maxx*3*3).reshape(3,maxx,3)\n",
        "a2[0,:,:] = a[np.where((a[:,1]<=10))][:maxx]\n",
        "a2[1,:,:] = a[np.where((a[:,1]>10) & (a[:,1]<20))][:maxx]\n",
        "a2[2,:,:] = a[np.where((a[:,1]>=20))][:maxx]\n",
        "print(a2)"
      ],
      "metadata": {
        "id": "go91mc2MXKtF",
        "colab": {
          "base_uri": "https://localhost:8080/"
        },
        "outputId": "6a3e5e67-5a39-4aa9-c9ce-d796cef7f375"
      },
      "execution_count": 28,
      "outputs": [
        {
          "output_type": "stream",
          "name": "stdout",
          "text": [
            "[[[ 94746     10      6]\n",
            "  [ 67660      5      6]\n",
            "  [366174      7      9]\n",
            "  ...\n",
            "  [  7983      0      6]\n",
            "  [184171      5      2]\n",
            "  [ 89181      5      7]]\n",
            "\n",
            " [[ 33941     18      9]\n",
            "  [446597     15      5]\n",
            "  [ 81006     12      7]\n",
            "  ...\n",
            "  [ 44120     17      5]\n",
            "  [ 60756     15      5]\n",
            "  [128811     15      4]]\n",
            "\n",
            " [[127244     60     16]\n",
            "  [ 23891     25      7]\n",
            "  [157911     60     14]\n",
            "  ...\n",
            "  [186515    220     11]\n",
            "  [372540     50      6]\n",
            "  [172926    120     13]]]\n"
          ]
        }
      ]
    }
  ],
  "metadata": {
    "kernelspec": {
      "display_name": "Python 3 (ipykernel)",
      "language": "python",
      "name": "python3"
    },
    "language_info": {
      "codemirror_mode": {
        "name": "ipython",
        "version": 3
      },
      "file_extension": ".py",
      "mimetype": "text/x-python",
      "name": "python",
      "nbconvert_exporter": "python",
      "pygments_lexer": "ipython3",
      "version": "3.9.12"
    },
    "colab": {
      "provenance": []
    }
  },
  "nbformat": 4,
  "nbformat_minor": 0
}